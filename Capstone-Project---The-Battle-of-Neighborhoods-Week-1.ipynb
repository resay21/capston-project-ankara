{
 "cells": [
  {
   "cell_type": "markdown",
   "metadata": {},
   "source": [
    "# Battle of the Neighborhoods\n",
    "### Introduction\n",
    "\n",
    "This project is for who is planning to open a Coffee House with fast food in Ankara, Turkey. This project suggests the best locations for Coffee Houses in Ankara. Ankara is the capital of Turkey with a population of 5M. Turkish culture has deep roots in coffee. Also, it is getting popular because of its affordable prices. Coffee consumption has increased 13% and average consumption is 1.1 kg/person in 2018. This report explores which neighborhoods of Ankara have the most as well as the best Coffee Houses. Also, this project answers the questions “Where should I open an Coffee House?” and “Where should I stay If I want a tasty coffee?”\n"
   ]
  },
  {
   "cell_type": "markdown",
   "metadata": {},
   "source": [
    "### Problem Description:\n",
    "A Cofee restaurant is a business which prepares and serves fastfood and  drink to customers in return for money, either paid before the meal, after the meal, or with an open account. The City of Ankara is famous for its excelllent cuisine. It's food culture includes an array of international cuisines influenced by the city's immigrant history.\n",
    "\n",
    "Central and Turkeys immigrants, especially Europians Turists -wurst tost, bagels, cheesecake, hot dog, knishes, and delicatessens\n",
    "Italian turists - Ankara-style pizza and Italian cuisine\n",
    "Chinese and other Asian restaurants, sandwich joints, trattorias, diners, and coffeehouses are ubiquitous throughout the city\n",
    "Middle Eastern foods such as falafel and kebabs examples of modern Ankara street food\n",
    "It is famous for not just Cafe's but also for fine dining  restaurants.The city is home to \"nearly one thousand of the finest and most diverse haute cuisine restaurants in the world\"."
   ]
  },
  {
   "cell_type": "markdown",
   "metadata": {},
   "source": [
    "## Data\n",
    "District of Ankara are obtained from https://en.wikipedia.org/wiki/Ankara_Province\n",
    "Latitude and Longitude values are obtained by using \"geocoder\".\n",
    "All data related to locations will be obtaine by using FourSquare API and Python Libraries."
   ]
  },
  {
   "cell_type": "code",
   "execution_count": 1,
   "metadata": {},
   "outputs": [],
   "source": [
    "import requests\n",
    "import pandas as pd\n",
    "from bs4 import BeautifulSoup\n",
    "import geocoder"
   ]
  },
  {
   "cell_type": "code",
   "execution_count": 3,
   "metadata": {},
   "outputs": [
    {
     "data": {
      "text/plain": [
       "<Response [200]>"
      ]
     },
     "execution_count": 3,
     "metadata": {},
     "output_type": "execute_result"
    }
   ],
   "source": [
    "wiki_link = 'https://en.wikipedia.org/wiki/Ankara_Province'\n",
    "wiki_page = requests.get(wiki_link)\n",
    "wiki_page"
   ]
  },
  {
   "cell_type": "code",
   "execution_count": 4,
   "metadata": {},
   "outputs": [],
   "source": [
    "soup = BeautifulSoup(wiki_page.content, 'html.parser')\n",
    "table = soup.find('table', {'class':'wikitable sortable'}).tbody"
   ]
  },
  {
   "cell_type": "code",
   "execution_count": 5,
   "metadata": {},
   "outputs": [],
   "source": [
    "rows = table.find_all('tr')"
   ]
  },
  {
   "cell_type": "code",
   "execution_count": 6,
   "metadata": {},
   "outputs": [
    {
     "data": {
      "text/plain": [
       "['District', 'Population (2017)', 'Area (km²)', 'Density (per km²)']"
      ]
     },
     "execution_count": 6,
     "metadata": {},
     "output_type": "execute_result"
    }
   ],
   "source": [
    "\n",
    "columns = [i.text.replace('\\n', '') for i in rows[0].find_all('th')]\n",
    "columns"
   ]
  },
  {
   "cell_type": "code",
   "execution_count": 7,
   "metadata": {},
   "outputs": [],
   "source": [
    "df_ankara = pd.DataFrame(columns = columns)"
   ]
  },
  {
   "cell_type": "code",
   "execution_count": 8,
   "metadata": {},
   "outputs": [],
   "source": [
    "for i in range(1, len(rows)):\n",
    "    tds = rows[i].find_all('td')\n",
    "    \n",
    "    if len(tds) == 7:\n",
    "        values = [tds[0].text, tds[1].text, tds[2].text.replace('\\n', ''.replace('\\xa0','')), tds[3].text, tds[4].text.replace('\\n', ''.replace('\\xa0','')), tds[5].text.replace('\\n', ''.replace('\\xa0','')), tds[6].text.replace('\\n', ''.replace('\\xa0',''))]\n",
    "    else:\n",
    "        values = [td.text.replace('\\n', '').replace('\\xa0','') for td in tds]\n",
    "        \n",
    "        df_ankara = df_ankara.append(pd.Series(values, index = columns), ignore_index = True)\n",
    "\n",
    "        df_ankara"
   ]
  },
  {
   "cell_type": "code",
   "execution_count": 9,
   "metadata": {},
   "outputs": [
    {
     "data": {
      "text/html": [
       "<div>\n",
       "<style scoped>\n",
       "    .dataframe tbody tr th:only-of-type {\n",
       "        vertical-align: middle;\n",
       "    }\n",
       "\n",
       "    .dataframe tbody tr th {\n",
       "        vertical-align: top;\n",
       "    }\n",
       "\n",
       "    .dataframe thead th {\n",
       "        text-align: right;\n",
       "    }\n",
       "</style>\n",
       "<table border=\"1\" class=\"dataframe\">\n",
       "  <thead>\n",
       "    <tr style=\"text-align: right;\">\n",
       "      <th></th>\n",
       "      <th>District</th>\n",
       "      <th>Population (2017)</th>\n",
       "      <th>Area (km²)</th>\n",
       "      <th>Density (per km²)</th>\n",
       "    </tr>\n",
       "  </thead>\n",
       "  <tbody>\n",
       "    <tr>\n",
       "      <th>0</th>\n",
       "      <td>Akyurt</td>\n",
       "      <td>32.863</td>\n",
       "      <td>369</td>\n",
       "      <td>89</td>\n",
       "    </tr>\n",
       "    <tr>\n",
       "      <th>1</th>\n",
       "      <td>Altındağ</td>\n",
       "      <td>371.366</td>\n",
       "      <td>123</td>\n",
       "      <td>3.019</td>\n",
       "    </tr>\n",
       "    <tr>\n",
       "      <th>2</th>\n",
       "      <td>Ayaş</td>\n",
       "      <td>12.289</td>\n",
       "      <td>1.041</td>\n",
       "      <td>12</td>\n",
       "    </tr>\n",
       "    <tr>\n",
       "      <th>3</th>\n",
       "      <td>Bala</td>\n",
       "      <td>21.682</td>\n",
       "      <td>1.851</td>\n",
       "      <td>12</td>\n",
       "    </tr>\n",
       "    <tr>\n",
       "      <th>4</th>\n",
       "      <td>Beypazarı</td>\n",
       "      <td>48.476</td>\n",
       "      <td>1.697</td>\n",
       "      <td>29</td>\n",
       "    </tr>\n",
       "  </tbody>\n",
       "</table>\n",
       "</div>"
      ],
      "text/plain": [
       "    District Population (2017) Area (km²) Density (per km²)\n",
       "0     Akyurt            32.863        369                89\n",
       "1   Altındağ           371.366        123             3.019\n",
       "2       Ayaş            12.289      1.041                12\n",
       "3       Bala            21.682      1.851                12\n",
       "4  Beypazarı            48.476      1.697                29"
      ]
     },
     "execution_count": 9,
     "metadata": {},
     "output_type": "execute_result"
    }
   ],
   "source": [
    "df_ankara.head()"
   ]
  },
  {
   "cell_type": "code",
   "execution_count": 10,
   "metadata": {},
   "outputs": [],
   "source": [
    "def get_latlng(arcgis_geocoder):\n",
    "    \n",
    "    lat_lng_coords = None\n",
    "    \n",
    "    while(lat_lng_coords is None):\n",
    "        g = geocoder.arcgis('{}, Ankara, Turkey'.format(arcgis_geocoder))\n",
    "        lat_lng_coords = g.latlng\n",
    "    return lat_lng_coords"
   ]
  },
  {
   "cell_type": "code",
   "execution_count": 11,
   "metadata": {},
   "outputs": [],
   "source": [
    "districts = df_ankara['District']    \n",
    "coordinates = [get_latlng(districts) for districts in districts.tolist()]"
   ]
  },
  {
   "cell_type": "code",
   "execution_count": 12,
   "metadata": {},
   "outputs": [],
   "source": [
    "\n",
    "df_ankara_loc = df_ankara\n",
    "\n",
    "df_ankara_coordinates = pd.DataFrame(coordinates, columns = ['Latitude', 'Longitude'])\n",
    "df_ankara_loc['Latitude'] = df_ankara_coordinates['Latitude']\n",
    "df_ankara_loc['Longitude'] = df_ankara_coordinates['Longitude']"
   ]
  },
  {
   "cell_type": "code",
   "execution_count": 13,
   "metadata": {},
   "outputs": [
    {
     "data": {
      "text/html": [
       "<div>\n",
       "<style scoped>\n",
       "    .dataframe tbody tr th:only-of-type {\n",
       "        vertical-align: middle;\n",
       "    }\n",
       "\n",
       "    .dataframe tbody tr th {\n",
       "        vertical-align: top;\n",
       "    }\n",
       "\n",
       "    .dataframe thead th {\n",
       "        text-align: right;\n",
       "    }\n",
       "</style>\n",
       "<table border=\"1\" class=\"dataframe\">\n",
       "  <thead>\n",
       "    <tr style=\"text-align: right;\">\n",
       "      <th></th>\n",
       "      <th>District</th>\n",
       "      <th>Population (2017)</th>\n",
       "      <th>Area (km²)</th>\n",
       "      <th>Density (per km²)</th>\n",
       "      <th>Latitude</th>\n",
       "      <th>Longitude</th>\n",
       "    </tr>\n",
       "  </thead>\n",
       "  <tbody>\n",
       "    <tr>\n",
       "      <th>0</th>\n",
       "      <td>Akyurt</td>\n",
       "      <td>32.863</td>\n",
       "      <td>369</td>\n",
       "      <td>89</td>\n",
       "      <td>40.13082</td>\n",
       "      <td>33.08719</td>\n",
       "    </tr>\n",
       "    <tr>\n",
       "      <th>1</th>\n",
       "      <td>Altındağ</td>\n",
       "      <td>371.366</td>\n",
       "      <td>123</td>\n",
       "      <td>3.019</td>\n",
       "      <td>39.94171</td>\n",
       "      <td>32.85445</td>\n",
       "    </tr>\n",
       "    <tr>\n",
       "      <th>2</th>\n",
       "      <td>Ayaş</td>\n",
       "      <td>12.289</td>\n",
       "      <td>1.041</td>\n",
       "      <td>12</td>\n",
       "      <td>40.01516</td>\n",
       "      <td>32.33270</td>\n",
       "    </tr>\n",
       "    <tr>\n",
       "      <th>3</th>\n",
       "      <td>Bala</td>\n",
       "      <td>21.682</td>\n",
       "      <td>1.851</td>\n",
       "      <td>12</td>\n",
       "      <td>39.55391</td>\n",
       "      <td>33.12352</td>\n",
       "    </tr>\n",
       "    <tr>\n",
       "      <th>4</th>\n",
       "      <td>Beypazarı</td>\n",
       "      <td>48.476</td>\n",
       "      <td>1.697</td>\n",
       "      <td>29</td>\n",
       "      <td>40.16811</td>\n",
       "      <td>31.92052</td>\n",
       "    </tr>\n",
       "  </tbody>\n",
       "</table>\n",
       "</div>"
      ],
      "text/plain": [
       "    District Population (2017) Area (km²) Density (per km²)  Latitude  \\\n",
       "0     Akyurt            32.863        369                89  40.13082   \n",
       "1   Altındağ           371.366        123             3.019  39.94171   \n",
       "2       Ayaş            12.289      1.041                12  40.01516   \n",
       "3       Bala            21.682      1.851                12  39.55391   \n",
       "4  Beypazarı            48.476      1.697                29  40.16811   \n",
       "\n",
       "   Longitude  \n",
       "0   33.08719  \n",
       "1   32.85445  \n",
       "2   32.33270  \n",
       "3   33.12352  \n",
       "4   31.92052  "
      ]
     },
     "execution_count": 13,
     "metadata": {},
     "output_type": "execute_result"
    }
   ],
   "source": [
    "df_ankara_loc.head()"
   ]
  },
  {
   "cell_type": "code",
   "execution_count": null,
   "metadata": {},
   "outputs": [],
   "source": []
  }
 ],
 "metadata": {
  "kernelspec": {
   "display_name": "Python 3",
   "language": "python",
   "name": "python3"
  },
  "language_info": {
   "codemirror_mode": {
    "name": "ipython",
    "version": 3
   },
   "file_extension": ".py",
   "mimetype": "text/x-python",
   "name": "python",
   "nbconvert_exporter": "python",
   "pygments_lexer": "ipython3",
   "version": "3.8.5"
  }
 },
 "nbformat": 4,
 "nbformat_minor": 4
}
